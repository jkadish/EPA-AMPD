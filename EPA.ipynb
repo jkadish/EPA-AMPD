{
 "metadata": {
  "name": ""
 },
 "nbformat": 3,
 "nbformat_minor": 0,
 "worksheets": [
  {
   "cells": [
    {
     "cell_type": "code",
     "collapsed": false,
     "input": [
      "import pandas as pd\n",
      "import glob\n",
      "import numpy as np\n",
      "import re\n",
      "import matplotlib\n",
      "import zipfile\n",
      "from os import listdir\n",
      "from os.path import isfile, join\n",
      "import csv"
     ],
     "language": "python",
     "metadata": {},
     "outputs": [],
     "prompt_number": 18
    },
    {
     "cell_type": "code",
     "collapsed": false,
     "input": [
      "zipfolders = [d for d in listdir('/mnt/norgay/Datasets/EPA_AMPD/Raw/Zipped/')]\n",
      "# print zipfolders[2:]\n",
      "for d in zipfolders[2:]:\n",
      "    zipfiles = [f for f in listdir('/mnt/norgay/Datasets/EPA_AMPD/Raw/Zipped/'+d) if f.endswith('.zip')]\n",
      "    for f in zipfiles:\n",
      "        zip_ref = zipfile.ZipFile('/mnt/norgay/Datasets/EPA_AMPD/Raw/Zipped/' + d+ '/' + f, 'r')\n",
      "        zip_ref.extractall('../data/EPA_Data/')\n",
      "        zip_ref.close()\n",
      "        csvfiles = sorted([f for f in listdir('../data/EPA_Data/')])"
     ],
     "language": "python",
     "metadata": {},
     "outputs": [
      {
       "output_type": "stream",
       "stream": "stdout",
       "text": [
        "['1995', '1996', '1997', '1998', '1999', '2000', '2001', '2002', '2003', '2004', '2005', '2006', '2007', '2008', '2009', '2010', '2011', '2012', '2013', '2014', '2015']\n"
       ]
      }
     ],
     "prompt_number": 21
    },
    {
     "cell_type": "code",
     "collapsed": false,
     "input": [
      "import re\n",
      "df = pd.DataFrame(columns=['heat', 'heatmmbtu', 'co2', 'co2tons', '232fs'])\n",
      "# df.columns = \n",
      "df = df.filter(regex='heat|co2')\n",
      "print df.columns\n",
      "# df.columns = [re.sub('[^a-zA-Z0-9]', '', col.lower()) for col in df.columns]\n",
      "# print df.columns"
     ],
     "language": "python",
     "metadata": {},
     "outputs": [
      {
       "output_type": "stream",
       "stream": "stdout",
       "text": [
        "Index([u'heat', u'heatmmbtu', u'co2', u'co2tons'], dtype='object')\n"
       ]
      }
     ],
     "prompt_number": 51
    },
    {
     "cell_type": "code",
     "collapsed": false,
     "input": [
      "list_ = []\n",
      "counter = 0\n",
      "for f in csvfiles:\n",
      "    df = pd.read_csv('../data/EPA_Data/' + f)\n",
      "    df.columns = [re.sub('[^a-zA-Z0-9_]', '', col.lower()) for col in df.columns]\n",
      "#     print f, df.columns\n",
      "    df = df.filter(regex='state|unitid|facility_name|orispl_code|op_date|op_hour|op_time|gload|co2_mass|co2_mass_measure_flg|heat_input')\n",
      "#     df = df[['state', 'unitid', 'facility_name', 'orispl_code', \\\n",
      "#            'op_date', 'op_hour', 'op_time', 'gloadmw', \\\n",
      "#            'co2_masstons', 'co2_mass_measure_flg', 'heat_inputmmbtu' \\\n",
      "#            ]]\n",
      "    \n",
      "#     df = df[['STATE', 'UNITID', 'FACILITY_NAME', 'ORISPL_CODE', \\\n",
      "#            'OP_DATE', 'OP_HOUR', 'OP_TIME', 'GLOAD (MW)', \\\n",
      "#            'CO2_MASS (tons)', 'CO2_MASS_MEASURE_FLG', 'HEAT_INPUT (mmBtu)' \\\n",
      "#            ]]\n",
      "    df.columns = ['State', 'UnitID', 'Facility_name', 'Orispl_code', \\\n",
      "                  'Date', 'Hour', 'Time', 'Gload', 'CO2_mass', \\\n",
      "                  'CO2_measure_flag', 'Heat_input']\n",
      "    list_.append(df)\n",
      "epa = pd.concat(list_)\n",
      "epa_sub = epa.dropna().reset_index(drop=True)"
     ],
     "language": "python",
     "metadata": {},
     "outputs": [],
     "prompt_number": "*"
    },
    {
     "cell_type": "code",
     "collapsed": false,
     "input": [
      "epa_sub['Hour'] = epa_sub['Hour'] + 1"
     ],
     "language": "python",
     "metadata": {},
     "outputs": [],
     "prompt_number": "*"
    }
   ],
   "metadata": {}
  }
 ]
}